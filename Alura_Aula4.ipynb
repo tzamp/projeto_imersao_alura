{
  "nbformat": 4,
  "nbformat_minor": 0,
  "metadata": {
    "colab": {
      "provenance": [],
      "authorship_tag": "ABX9TyMun1P//QKSLAtFO38cUGTA",
      "include_colab_link": true
    },
    "kernelspec": {
      "name": "python3",
      "display_name": "Python 3"
    },
    "language_info": {
      "name": "python"
    }
  },
  "cells": [
    {
      "cell_type": "markdown",
      "metadata": {
        "id": "view-in-github",
        "colab_type": "text"
      },
      "source": [
        "<a href=\"https://colab.research.google.com/github/tzamp/projeto_imersao_alura/blob/main/Alura_Aula4.ipynb\" target=\"_parent\"><img src=\"https://colab.research.google.com/assets/colab-badge.svg\" alt=\"Open In Colab\"/></a>"
      ]
    },
    {
      "cell_type": "markdown",
      "source": [
        "**Referência**\n",
        "\n",
        "https://colab.research.google.com/github/google/generative-ai-docs/blob/main/site/en/tutorials/quickstart_colab.ipynb?hl=pt-br#scrollTo=j51mcrLD4Y2W\n"
      ],
      "metadata": {
        "id": "-8XV0r6wKgvi"
      }
    },
    {
      "cell_type": "markdown",
      "source": [
        "**Install the SDK**"
      ],
      "metadata": {
        "id": "XwnXlGrMJGg_"
      }
    },
    {
      "cell_type": "code",
      "execution_count": 2,
      "metadata": {
        "id": "3vCdGlCpEjSX"
      },
      "outputs": [],
      "source": [
        "!pip install -q -U google-generativeai"
      ]
    },
    {
      "cell_type": "markdown",
      "source": [
        "**Set up your API key**"
      ],
      "metadata": {
        "id": "jY6YymU-JTjP"
      }
    },
    {
      "cell_type": "code",
      "source": [
        "# Import the Python SDK\n",
        "import google.generativeai as genai\n",
        "from google.colab import userdata\n",
        "\n",
        "## Jeito não seguro\n",
        "# GOOGLE_API_KEY='COLE AQUI a SUA API KEY'\n",
        "# genai.configure(api_key=GOOGLE_API_KEY)\n",
        "\n",
        "# Jeito Seguro\n",
        "api_key = userdata.get('SECRET_KEY')\n",
        "genai.configure(api_key=api_key)"
      ],
      "metadata": {
        "id": "9Twu2a1AJUhV"
      },
      "execution_count": 13,
      "outputs": []
    },
    {
      "cell_type": "markdown",
      "source": [
        "**Listar os Módulos Disponíveis**"
      ],
      "metadata": {
        "id": "xZJed6x7J0wb"
      }
    },
    {
      "cell_type": "code",
      "source": [
        "for m in genai.list_models():\n",
        "  if 'generateContent' in m.supported_generation_methods:\n",
        "    print(m.name)"
      ],
      "metadata": {
        "colab": {
          "base_uri": "https://localhost:8080/",
          "height": 139
        },
        "id": "K6MdrONOJ31-",
        "outputId": "d27e5a43-c901-4222-d1b6-66d9e5544f75"
      },
      "execution_count": 4,
      "outputs": [
        {
          "output_type": "stream",
          "name": "stdout",
          "text": [
            "models/gemini-1.0-pro\n",
            "models/gemini-1.0-pro-001\n",
            "models/gemini-1.0-pro-latest\n",
            "models/gemini-1.0-pro-vision-latest\n",
            "models/gemini-1.5-pro-latest\n",
            "models/gemini-pro\n",
            "models/gemini-pro-vision\n"
          ]
        }
      ]
    },
    {
      "cell_type": "markdown",
      "source": [
        "**Parametrizando diferente do default**"
      ],
      "metadata": {
        "id": "7SndXKJDMO5e"
      }
    },
    {
      "cell_type": "code",
      "source": [
        "# Temperature: 0 a 1 (menos a mais criativo)\n",
        "# top_k, top_p\n",
        "generation_config = {\n",
        "    \"candidate_count\": 1,\n",
        "    \"temperature\": 0.5,\n",
        "}"
      ],
      "metadata": {
        "id": "d4U_O0G1LNmG"
      },
      "execution_count": 5,
      "outputs": []
    },
    {
      "cell_type": "code",
      "source": [
        "# Safety Settings\n",
        "safety_settings = {\n",
        "    \"HARASSMENT\": \"BLOCK_NONE\",\n",
        "    \"HATE\": \"BLOCK_NONE\",\n",
        "    \"SEXUAL\": \"BLOCK_NONE\",\n",
        "    \"DANGEROUS\": \"BLOCK_NONE\"\n",
        "}"
      ],
      "metadata": {
        "id": "90HPPNlQLo2s"
      },
      "execution_count": 6,
      "outputs": []
    },
    {
      "cell_type": "markdown",
      "source": [
        "**Initialize the Generative Model**"
      ],
      "metadata": {
        "id": "8DmKYVwdJb3u"
      }
    },
    {
      "cell_type": "code",
      "source": [
        "# model = genai.GenerativeModel('gemini-pro')\n",
        "# nesse momento o 1.5 nao permite mudar parametros. o 1.0 é o mais estável\n",
        "model = genai.GenerativeModel(model_name=\"gemini-1.0-pro\",\n",
        "                              generation_config=generation_config,\n",
        "                              safety_settings=safety_settings)"
      ],
      "metadata": {
        "id": "ewSxEvBGJuzd"
      },
      "execution_count": 7,
      "outputs": []
    },
    {
      "cell_type": "markdown",
      "source": [
        "**Generate text**"
      ],
      "metadata": {
        "id": "dO48ZkOMN3Dx"
      }
    },
    {
      "cell_type": "code",
      "source": [
        "response = model.generate_content(\"Descreva como aprender a aplicar IA. Me dê sugestões\")\n",
        "print(response.text)"
      ],
      "metadata": {
        "colab": {
          "base_uri": "https://localhost:8080/",
          "height": 923
        },
        "id": "1OtITpkmN7ar",
        "outputId": "8b8eb443-b538-457f-9460-27e2b8979830"
      },
      "execution_count": 24,
      "outputs": [
        {
          "output_type": "stream",
          "name": "stdout",
          "text": [
            "**Como Aprender a Aplicar IA**\n",
            "\n",
            "**1. Entenda os Fundamentos da IA**\n",
            "\n",
            "* Aprenda sobre conceitos básicos de IA, como aprendizado de máquina, aprendizado profundo e redes neurais.\n",
            "* Leia livros, artigos e assista a palestras online sobre IA.\n",
            "\n",
            "**2. Escolha uma Área de Foco**\n",
            "\n",
            "* Identifique uma área específica de aplicação de IA que lhe interessa, como visão computacional, processamento de linguagem natural ou análise preditiva.\n",
            "* Concentre-se no desenvolvimento de habilidades nessa área.\n",
            "\n",
            "**3. Aprenda uma Linguagem de Programação**\n",
            "\n",
            "* Escolha uma linguagem de programação como Python, R ou Java, que seja amplamente usada para IA.\n",
            "* Aprenda as bibliotecas e estruturas específicas da IA para a linguagem escolhida.\n",
            "\n",
            "**4. Pratique com Conjuntos de Dados**\n",
            "\n",
            "* Encontre conjuntos de dados públicos ou crie seus próprios conjuntos de dados para praticar o treinamento e a avaliação de modelos de IA.\n",
            "* Experimente diferentes algoritmos e parâmetros para otimizar o desempenho do modelo.\n",
            "\n",
            "**5. Construa Projetos**\n",
            "\n",
            "* Aplique seus conhecimentos de IA para construir projetos práticos, como um sistema de reconhecimento de imagem ou um chatbot.\n",
            "* Esses projetos fornecerão experiência prática e ajudarão você a entender como aplicar IA em cenários do mundo real.\n",
            "\n",
            "**6. Participe de Comunidades e Eventos**\n",
            "\n",
            "* Junte-se a comunidades online, fóruns e grupos de IA.\n",
            "* Participe de conferências e workshops para se conectar com especialistas e aprender sobre as últimas tendências de IA.\n",
            "\n",
            "**7. Obtenha Certificações e Cursos**\n",
            "\n",
            "* Considere obter certificações ou fazer cursos online para validar suas habilidades e conhecimento de IA.\n",
            "* Esses programas podem fornecer uma estrutura e orientação para seu aprendizado.\n",
            "\n",
            "**8. Colabore com Outros**\n",
            "\n",
            "* Trabalhe com outras pessoas interessadas em IA.\n",
            "* Compartilhe ideias, colabore em projetos e aprenda com as perspectivas de outras pessoas.\n",
            "\n",
            "**9. Mantenha-se Atualizado**\n",
            "\n",
            "* A IA está evoluindo rapidamente. Mantenha-se atualizado com as últimas pesquisas, tendências e ferramentas.\n",
            "* Leia artigos, assista a webinars e participe de eventos do setor para expandir seu conhecimento.\n",
            "\n",
            "**10. Seja Paciente e Persistente**\n",
            "\n",
            "* Aprender a aplicar IA leva tempo e esforço.\n",
            "* Não desanime com os desafios. Continue praticando, aprendendo e aplicando seus conhecimentos para se tornar um profissional de IA qualificado.\n"
          ]
        }
      ]
    },
    {
      "cell_type": "markdown",
      "source": [
        "**Chat**"
      ],
      "metadata": {
        "id": "T2cNEGcSOqGS"
      }
    },
    {
      "cell_type": "code",
      "source": [
        "chat = model.start_chat(history=[])"
      ],
      "metadata": {
        "id": "0T0qckEVOs2C"
      },
      "execution_count": 8,
      "outputs": []
    },
    {
      "cell_type": "markdown",
      "source": [
        "**Prompt**"
      ],
      "metadata": {
        "id": "6rAqq9cMPO5t"
      }
    },
    {
      "cell_type": "code",
      "source": [
        "prompt = input(\"Esperando prompt: \")\n",
        "\n",
        "while prompt != \"fim\":\n",
        "  response = chat.send_message(prompt)\n",
        "  print(\"Resposta: \", response.text, \"\\n\")\n",
        "  prompt = input(\"Esperando prompt: \")"
      ],
      "metadata": {
        "colab": {
          "base_uri": "https://localhost:8080/",
          "height": 801
        },
        "id": "CMhdZH1pPKT5",
        "outputId": "6eb6b32d-dffe-4992-cc01-45ef0a0b799d"
      },
      "execution_count": 9,
      "outputs": [
        {
          "name": "stdout",
          "output_type": "stream",
          "text": [
            "Esperando prompt: Quem mora no Brasil é?\n",
            "Resposta:  Brasileiro \n",
            "\n",
            "Esperando prompt: Qual a população?\n",
            "Resposta:  Aproximadamente 215 milhões de habitantes (estimativa de 2023) \n",
            "\n",
            "Esperando prompt: origem?\n",
            "Resposta:  A população brasileira tem uma origem diversa, resultado de séculos de imigração e miscigenação:\n",
            "\n",
            "* **Povos indígenas:** Os primeiros habitantes do Brasil, que chegaram há cerca de 12.000 anos.\n",
            "* **Portugueses:** Colonizadores que chegaram no século XVI e trouxeram consigo a língua, a cultura e a religião.\n",
            "* **Africanos:** Escravizados e trazidos ao Brasil a partir do século XVI, contribuindo significativamente para a formação da cultura e da identidade brasileira.\n",
            "* **Italianos:** A maior comunidade imigrante no Brasil, chegaram principalmente no final do século XIX e início do século XX.\n",
            "* **Alemães:** Outra comunidade imigrante significativa, que chegou principalmente no século XIX.\n",
            "* **Japoneses:** Imigraram para o Brasil a partir do início do século XX.\n",
            "* **Árabes:** Principalmente libaneses e sírios, chegaram ao Brasil no final do século XIX e início do século XX.\n",
            "* **Espanhóis:** Imigraram para o Brasil principalmente nos séculos XIX e XX.\n",
            "* **Outros:** Imigrantes de diversos outros países, como Polônia, Ucrânia, Rússia, China e Coreia.\n",
            "\n",
            "Essa mistura de origens resultou em uma população brasileira com grande diversidade étnica e cultural. \n",
            "\n",
            "Esperando prompt: Presidente?\n",
            "Resposta:  Luiz Inácio Lula da Silva\n",
            "\n",
            "Eleito em 30 de outubro de 2022 e empossado em 1º de janeiro de 2023, para um mandato de quatro anos. \n",
            "\n",
            "Esperando prompt: Qual o melhor presidente do Brasil desde a republica?\n",
            "Resposta:  Não há um consenso sobre quem é o melhor presidente do Brasil desde a república. No entanto, alguns dos presidentes mais frequentemente citados como os melhores incluem:\n",
            "\n",
            "* **Getúlio Vargas (1930-1945 e 1951-1954):** Modernizou o Brasil, criou leis trabalhistas e estabeleceu o Estado Novo, um regime autoritário.\n",
            "* **Juscelino Kubitschek (1956-1961):** Construiu Brasília, a nova capital do Brasil, e promoveu o desenvolvimento econômico.\n",
            "* **Fernando Henrique Cardoso (1995-2002):** Implementou reformas econômicas e sociais, estabilizando a economia e reduzindo a pobreza.\n",
            "* **Luiz Inácio Lula da Silva (2003-2010):** Reduziu a desigualdade social, expandiu os programas sociais e presidiu um período de crescimento econômico.\n",
            "\n",
            "Outros presidentes que também são frequentemente mencionados como estando entre os melhores incluem:\n",
            "\n",
            "* **Floriano Peixoto (1891-1894):** Consolidou a república e enfrentou revoltas militares.\n",
            "* **Campos Sales (1898-1902):** Sanou a dívida externa do Brasil e promoveu o desenvolvimento econômico.\n",
            "* **Epitácio Pessoa (1919-1922):** Promoveu a educação e a saúde pública.\n",
            "* **Washington Luís (1926-1930):** Modernizou o país e investiu em infraestrutura.\n",
            "\n",
            "É importante notar que a avaliação dos presidentes pode variar dependendo de fatores como ideologia política, período histórico e critérios de avaliação usados. \n",
            "\n",
            "Esperando prompt: fim\n"
          ]
        }
      ]
    },
    {
      "cell_type": "code",
      "source": [
        "chat"
      ],
      "metadata": {
        "colab": {
          "base_uri": "https://localhost:8080/"
        },
        "id": "sv8LKqLmQuig",
        "outputId": "e9776144-e987-43d8-bc6d-a60c279fd917"
      },
      "execution_count": 10,
      "outputs": [
        {
          "output_type": "execute_result",
          "data": {
            "text/plain": [
              "ChatSession(\n",
              "    model=genai.GenerativeModel(\n",
              "        model_name='models/gemini-1.0-pro',\n",
              "        generation_config={'candidate_count': 1, 'temperature': 0.5},\n",
              "        safety_settings={<HarmCategory.HARM_CATEGORY_HARASSMENT: 7>: <HarmBlockThreshold.BLOCK_NONE: 4>, <HarmCategory.HARM_CATEGORY_HATE_SPEECH: 8>: <HarmBlockThreshold.BLOCK_NONE: 4>, <HarmCategory.HARM_CATEGORY_SEXUALLY_EXPLICIT: 9>: <HarmBlockThreshold.BLOCK_NONE: 4>, <HarmCategory.HARM_CATEGORY_DANGEROUS_CONTENT: 10>: <HarmBlockThreshold.BLOCK_NONE: 4>},\n",
              "        tools=None,\n",
              "        system_instruction=None,\n",
              "    ),\n",
              "    history=[glm.Content({'parts': [{'text': 'Quem mora no Brasil é?'}], 'role': 'user'}), glm.Content({'parts': [{'text': 'Brasileiro'}], 'role': 'model'}), glm.Content({'parts': [{'text': 'Qual a população?'}], 'role': 'user'}), glm.Content({'parts': [{'text': 'Aproximadame...tiva de 2023)'}], 'role': 'model'}), glm.Content({'parts': [{'text': 'origem?'}], 'role': 'user'}), glm.Content({'parts': [{'text': 'A população ...a e cultural.'}], 'role': 'model'}), glm.Content({'parts': [{'text': 'Presidente?'}], 'role': 'user'}), glm.Content({'parts': [{'text': 'Luiz Inácio ... quatro anos.'}], 'role': 'model'}), glm.Content({'parts': [{'text': 'Qual o melho... a republica?'}], 'role': 'user'}), glm.Content({'parts': [{'text': 'Não há um co...iação usados.'}], 'role': 'model'})]\n",
              ")"
            ]
          },
          "metadata": {},
          "execution_count": 10
        }
      ]
    },
    {
      "cell_type": "code",
      "source": [
        "chat.history"
      ],
      "metadata": {
        "colab": {
          "base_uri": "https://localhost:8080/"
        },
        "id": "DzVCwcnMRBP5",
        "outputId": "b5525602-78c6-409d-97a9-39cb0743e15f"
      },
      "execution_count": 11,
      "outputs": [
        {
          "output_type": "execute_result",
          "data": {
            "text/plain": [
              "[parts {\n",
              "   text: \"Quem mora no Brasil \\303\\251?\"\n",
              " }\n",
              " role: \"user\",\n",
              " parts {\n",
              "   text: \"Brasileiro\"\n",
              " }\n",
              " role: \"model\",\n",
              " parts {\n",
              "   text: \"Qual a popula\\303\\247\\303\\243o?\"\n",
              " }\n",
              " role: \"user\",\n",
              " parts {\n",
              "   text: \"Aproximadamente 215 milh\\303\\265es de habitantes (estimativa de 2023)\"\n",
              " }\n",
              " role: \"model\",\n",
              " parts {\n",
              "   text: \"origem?\"\n",
              " }\n",
              " role: \"user\",\n",
              " parts {\n",
              "   text: \"A popula\\303\\247\\303\\243o brasileira tem uma origem diversa, resultado de s\\303\\251culos de imigra\\303\\247\\303\\243o e miscigena\\303\\247\\303\\243o:\\n\\n* **Povos ind\\303\\255genas:** Os primeiros habitantes do Brasil, que chegaram h\\303\\241 cerca de 12.000 anos.\\n* **Portugueses:** Colonizadores que chegaram no s\\303\\251culo XVI e trouxeram consigo a l\\303\\255ngua, a cultura e a religi\\303\\243o.\\n* **Africanos:** Escravizados e trazidos ao Brasil a partir do s\\303\\251culo XVI, contribuindo significativamente para a forma\\303\\247\\303\\243o da cultura e da identidade brasileira.\\n* **Italianos:** A maior comunidade imigrante no Brasil, chegaram principalmente no final do s\\303\\251culo XIX e in\\303\\255cio do s\\303\\251culo XX.\\n* **Alem\\303\\243es:** Outra comunidade imigrante significativa, que chegou principalmente no s\\303\\251culo XIX.\\n* **Japoneses:** Imigraram para o Brasil a partir do in\\303\\255cio do s\\303\\251culo XX.\\n* **\\303\\201rabes:** Principalmente libaneses e s\\303\\255rios, chegaram ao Brasil no final do s\\303\\251culo XIX e in\\303\\255cio do s\\303\\251culo XX.\\n* **Espanh\\303\\263is:** Imigraram para o Brasil principalmente nos s\\303\\251culos XIX e XX.\\n* **Outros:** Imigrantes de diversos outros pa\\303\\255ses, como Pol\\303\\264nia, Ucr\\303\\242nia, R\\303\\272ssia, China e Coreia.\\n\\nEssa mistura de origens resultou em uma popula\\303\\247\\303\\243o brasileira com grande diversidade \\303\\251tnica e cultural.\"\n",
              " }\n",
              " role: \"model\",\n",
              " parts {\n",
              "   text: \"Presidente?\"\n",
              " }\n",
              " role: \"user\",\n",
              " parts {\n",
              "   text: \"Luiz In\\303\\241cio Lula da Silva\\n\\nEleito em 30 de outubro de 2022 e empossado em 1\\302\\272 de janeiro de 2023, para um mandato de quatro anos.\"\n",
              " }\n",
              " role: \"model\",\n",
              " parts {\n",
              "   text: \"Qual o melhor presidente do Brasil desde a republica?\"\n",
              " }\n",
              " role: \"user\",\n",
              " parts {\n",
              "   text: \"N\\303\\243o h\\303\\241 um consenso sobre quem \\303\\251 o melhor presidente do Brasil desde a rep\\303\\272blica. No entanto, alguns dos presidentes mais frequentemente citados como os melhores incluem:\\n\\n* **Get\\303\\272lio Vargas (1930-1945 e 1951-1954):** Modernizou o Brasil, criou leis trabalhistas e estabeleceu o Estado Novo, um regime autorit\\303\\241rio.\\n* **Juscelino Kubitschek (1956-1961):** Construiu Bras\\303\\255lia, a nova capital do Brasil, e promoveu o desenvolvimento econ\\303\\264mico.\\n* **Fernando Henrique Cardoso (1995-2002):** Implementou reformas econ\\303\\264micas e sociais, estabilizando a economia e reduzindo a pobreza.\\n* **Luiz In\\303\\241cio Lula da Silva (2003-2010):** Reduziu a desigualdade social, expandiu os programas sociais e presidiu um per\\303\\255odo de crescimento econ\\303\\264mico.\\n\\nOutros presidentes que tamb\\303\\251m s\\303\\243o frequentemente mencionados como estando entre os melhores incluem:\\n\\n* **Floriano Peixoto (1891-1894):** Consolidou a rep\\303\\272blica e enfrentou revoltas militares.\\n* **Campos Sales (1898-1902):** Sanou a d\\303\\255vida externa do Brasil e promoveu o desenvolvimento econ\\303\\264mico.\\n* **Epit\\303\\241cio Pessoa (1919-1922):** Promoveu a educa\\303\\247\\303\\243o e a sa\\303\\272de p\\303\\272blica.\\n* **Washington Lu\\303\\255s (1926-1930):** Modernizou o pa\\303\\255s e investiu em infraestrutura.\\n\\n\\303\\211 importante notar que a avalia\\303\\247\\303\\243o dos presidentes pode variar dependendo de fatores como ideologia pol\\303\\255tica, per\\303\\255odo hist\\303\\263rico e crit\\303\\251rios de avalia\\303\\247\\303\\243o usados.\"\n",
              " }\n",
              " role: \"model\"]"
            ]
          },
          "metadata": {},
          "execution_count": 11
        }
      ]
    },
    {
      "cell_type": "code",
      "source": [
        "#Melhorando a visualização\n",
        "#Código disponível em https://ai.google.dev/tutorials/python_quickstart#import_packages\n",
        "import textwrap\n",
        "from IPython.display import display\n",
        "from IPython.display import Markdown\n",
        "\n",
        "def to_markdown(text):\n",
        "  text = text.replace('•', '  *')\n",
        "  return Markdown(textwrap.indent(text, '> ', predicate=lambda _: True))\n",
        "\n",
        "#Imprimindo o histórico\n",
        "for message in chat.history:\n",
        "  display(to_markdown(f'**{message.role}**: {message.parts[0].text}'))\n",
        "  print('-------------------------------------------')"
      ],
      "metadata": {
        "colab": {
          "base_uri": "https://localhost:8080/",
          "height": 1000
        },
        "id": "khWph3avRMdO",
        "outputId": "5b4adc19-e6e3-4636-99e5-fde9f674311d"
      },
      "execution_count": 12,
      "outputs": [
        {
          "output_type": "display_data",
          "data": {
            "text/plain": [
              "<IPython.core.display.Markdown object>"
            ],
            "text/markdown": "> **user**: Quem mora no Brasil é?"
          },
          "metadata": {}
        },
        {
          "output_type": "stream",
          "name": "stdout",
          "text": [
            "-------------------------------------------\n"
          ]
        },
        {
          "output_type": "display_data",
          "data": {
            "text/plain": [
              "<IPython.core.display.Markdown object>"
            ],
            "text/markdown": "> **model**: Brasileiro"
          },
          "metadata": {}
        },
        {
          "output_type": "stream",
          "name": "stdout",
          "text": [
            "-------------------------------------------\n"
          ]
        },
        {
          "output_type": "display_data",
          "data": {
            "text/plain": [
              "<IPython.core.display.Markdown object>"
            ],
            "text/markdown": "> **user**: Qual a população?"
          },
          "metadata": {}
        },
        {
          "output_type": "stream",
          "name": "stdout",
          "text": [
            "-------------------------------------------\n"
          ]
        },
        {
          "output_type": "display_data",
          "data": {
            "text/plain": [
              "<IPython.core.display.Markdown object>"
            ],
            "text/markdown": "> **model**: Aproximadamente 215 milhões de habitantes (estimativa de 2023)"
          },
          "metadata": {}
        },
        {
          "output_type": "stream",
          "name": "stdout",
          "text": [
            "-------------------------------------------\n"
          ]
        },
        {
          "output_type": "display_data",
          "data": {
            "text/plain": [
              "<IPython.core.display.Markdown object>"
            ],
            "text/markdown": "> **user**: origem?"
          },
          "metadata": {}
        },
        {
          "output_type": "stream",
          "name": "stdout",
          "text": [
            "-------------------------------------------\n"
          ]
        },
        {
          "output_type": "display_data",
          "data": {
            "text/plain": [
              "<IPython.core.display.Markdown object>"
            ],
            "text/markdown": "> **model**: A população brasileira tem uma origem diversa, resultado de séculos de imigração e miscigenação:\n> \n> * **Povos indígenas:** Os primeiros habitantes do Brasil, que chegaram há cerca de 12.000 anos.\n> * **Portugueses:** Colonizadores que chegaram no século XVI e trouxeram consigo a língua, a cultura e a religião.\n> * **Africanos:** Escravizados e trazidos ao Brasil a partir do século XVI, contribuindo significativamente para a formação da cultura e da identidade brasileira.\n> * **Italianos:** A maior comunidade imigrante no Brasil, chegaram principalmente no final do século XIX e início do século XX.\n> * **Alemães:** Outra comunidade imigrante significativa, que chegou principalmente no século XIX.\n> * **Japoneses:** Imigraram para o Brasil a partir do início do século XX.\n> * **Árabes:** Principalmente libaneses e sírios, chegaram ao Brasil no final do século XIX e início do século XX.\n> * **Espanhóis:** Imigraram para o Brasil principalmente nos séculos XIX e XX.\n> * **Outros:** Imigrantes de diversos outros países, como Polônia, Ucrânia, Rússia, China e Coreia.\n> \n> Essa mistura de origens resultou em uma população brasileira com grande diversidade étnica e cultural."
          },
          "metadata": {}
        },
        {
          "output_type": "stream",
          "name": "stdout",
          "text": [
            "-------------------------------------------\n"
          ]
        },
        {
          "output_type": "display_data",
          "data": {
            "text/plain": [
              "<IPython.core.display.Markdown object>"
            ],
            "text/markdown": "> **user**: Presidente?"
          },
          "metadata": {}
        },
        {
          "output_type": "stream",
          "name": "stdout",
          "text": [
            "-------------------------------------------\n"
          ]
        },
        {
          "output_type": "display_data",
          "data": {
            "text/plain": [
              "<IPython.core.display.Markdown object>"
            ],
            "text/markdown": "> **model**: Luiz Inácio Lula da Silva\n> \n> Eleito em 30 de outubro de 2022 e empossado em 1º de janeiro de 2023, para um mandato de quatro anos."
          },
          "metadata": {}
        },
        {
          "output_type": "stream",
          "name": "stdout",
          "text": [
            "-------------------------------------------\n"
          ]
        },
        {
          "output_type": "display_data",
          "data": {
            "text/plain": [
              "<IPython.core.display.Markdown object>"
            ],
            "text/markdown": "> **user**: Qual o melhor presidente do Brasil desde a republica?"
          },
          "metadata": {}
        },
        {
          "output_type": "stream",
          "name": "stdout",
          "text": [
            "-------------------------------------------\n"
          ]
        },
        {
          "output_type": "display_data",
          "data": {
            "text/plain": [
              "<IPython.core.display.Markdown object>"
            ],
            "text/markdown": "> **model**: Não há um consenso sobre quem é o melhor presidente do Brasil desde a república. No entanto, alguns dos presidentes mais frequentemente citados como os melhores incluem:\n> \n> * **Getúlio Vargas (1930-1945 e 1951-1954):** Modernizou o Brasil, criou leis trabalhistas e estabeleceu o Estado Novo, um regime autoritário.\n> * **Juscelino Kubitschek (1956-1961):** Construiu Brasília, a nova capital do Brasil, e promoveu o desenvolvimento econômico.\n> * **Fernando Henrique Cardoso (1995-2002):** Implementou reformas econômicas e sociais, estabilizando a economia e reduzindo a pobreza.\n> * **Luiz Inácio Lula da Silva (2003-2010):** Reduziu a desigualdade social, expandiu os programas sociais e presidiu um período de crescimento econômico.\n> \n> Outros presidentes que também são frequentemente mencionados como estando entre os melhores incluem:\n> \n> * **Floriano Peixoto (1891-1894):** Consolidou a república e enfrentou revoltas militares.\n> * **Campos Sales (1898-1902):** Sanou a dívida externa do Brasil e promoveu o desenvolvimento econômico.\n> * **Epitácio Pessoa (1919-1922):** Promoveu a educação e a saúde pública.\n> * **Washington Luís (1926-1930):** Modernizou o país e investiu em infraestrutura.\n> \n> É importante notar que a avaliação dos presidentes pode variar dependendo de fatores como ideologia política, período histórico e critérios de avaliação usados."
          },
          "metadata": {}
        },
        {
          "output_type": "stream",
          "name": "stdout",
          "text": [
            "-------------------------------------------\n"
          ]
        }
      ]
    }
  ]
}